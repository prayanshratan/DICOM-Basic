{
 "cells": [
  {
   "cell_type": "code",
   "execution_count": 1,
   "metadata": {},
   "outputs": [],
   "source": [
    "import os\n",
    "import pydicom\n",
    "import sys\n",
    "\n",
    "bmode = pydicom.dcmread('bmode.dcm')\n",
    "ttfm = pydicom.dcmread('ttfm.dcm')\n",
    "\n",
    "# print(d1)\n",
    "# print(d2)\n",
    "\n",
    "#Exporting 'bmode' to a text file bmode.txt\n",
    "f = open('bmode.txt', 'w')\n",
    "orig_stdout = sys.stdout\n",
    "sys.stdout = f\n",
    "\n",
    "for i in range(len(bmode)):\n",
    "    print (bmode)\n",
    "\n",
    "sys.stdout = orig_stdout\n",
    "f.close()\n",
    "\n",
    "#Exporting 'ttfm' to a text file ttfm.txt\n",
    "f = open('ttfm.txt', 'w')\n",
    "orig_stdout = sys.stdout\n",
    "sys.stdout = f\n",
    "\n",
    "for i in range(len(ttfm)):\n",
    "    print (ttfm)\n",
    "\n",
    "sys.stdout = orig_stdout\n",
    "f.close()"
   ]
  }
 ],
 "metadata": {
  "kernelspec": {
   "display_name": "Python 2",
   "language": "python",
   "name": "python2"
  },
  "language_info": {
   "codemirror_mode": {
    "name": "ipython",
    "version": 3
   },
   "file_extension": ".py",
   "mimetype": "text/x-python",
   "name": "python",
   "nbconvert_exporter": "python",
   "pygments_lexer": "ipython3",
   "version": "3.5.2"
  },
  "varInspector": {
   "cols": {
    "lenName": 16,
    "lenType": 16,
    "lenVar": 40
   },
   "kernels_config": {
    "python": {
     "delete_cmd_postfix": "",
     "delete_cmd_prefix": "del ",
     "library": "var_list.py",
     "varRefreshCmd": "print(var_dic_list())"
    },
    "r": {
     "delete_cmd_postfix": ") ",
     "delete_cmd_prefix": "rm(",
     "library": "var_list.r",
     "varRefreshCmd": "cat(var_dic_list()) "
    }
   },
   "types_to_exclude": [
    "module",
    "function",
    "builtin_function_or_method",
    "instance",
    "_Feature"
   ],
   "window_display": false
  }
 },
 "nbformat": 4,
 "nbformat_minor": 2
}
